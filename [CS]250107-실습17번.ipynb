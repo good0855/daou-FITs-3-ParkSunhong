{
  "nbformat": 4,
  "nbformat_minor": 0,
  "metadata": {
    "colab": {
      "provenance": [],
      "authorship_tag": "ABX9TyMGZz7e8auqbfJm/qf/PhBW",
      "include_colab_link": true
    },
    "kernelspec": {
      "name": "python3",
      "display_name": "Python 3"
    },
    "language_info": {
      "name": "python"
    }
  },
  "cells": [
    {
      "cell_type": "markdown",
      "metadata": {
        "id": "view-in-github",
        "colab_type": "text"
      },
      "source": [
        "<a href=\"https://colab.research.google.com/github/good0855/daou-FITs-3-ParkSunhong/blob/%EC%8B%A4%EC%8A%B5/%5BCS%5D250107-%EC%8B%A4%EC%8A%B517%EB%B2%88.ipynb\" target=\"_parent\"><img src=\"https://colab.research.google.com/assets/colab-badge.svg\" alt=\"Open In Colab\"/></a>"
      ]
    },
    {
      "cell_type": "code",
      "source": [
        "# 실습 17 - 파이썬을 활용한 이중 연결 리스트 구현 실습\n",
        "\n",
        "class DNode:\n",
        "    def __init__(self, data):\n",
        "        self.data = data\n",
        "        self.next = None\n",
        "        self.prev = None\n",
        "\n",
        "class DoublyLinkedList:\n",
        "    def __init__(self):\n",
        "        self.head = None\n",
        "        self.tail = None\n",
        "\n",
        "    def append(self, data):\n",
        "        new_node = DNode(data)\n",
        "        if not self.head:\n",
        "            self.head = self.tail = new_node\n",
        "            return\n",
        "        self.tail.next = new_node\n",
        "        new_node.prev = self.tail\n",
        "        self.tail = new_node\n",
        "\n",
        "    def prepend(self,data):\n",
        "        new_node = DNode(data)\n",
        "        if not self.head:\n",
        "            self.head = self.tail = new_node\n",
        "            return\n",
        "\n",
        "        new_node.next = self.head\n",
        "        self.head.prev = new_node\n",
        "        self.head = new_node\n",
        "\n",
        "\n",
        "    def delete(self, data):\n",
        "        temp = self.head\n",
        "        while temp:\n",
        "            if temp.data == data:\n",
        "                if temp.prev:\n",
        "                    temp.prev.next = temp.next\n",
        "                if temp.next:\n",
        "                    temp.next.prev = temp.prev\n",
        "                if temp == self.head:\n",
        "                    self.head = temp.next\n",
        "                if temp == self.tail:\n",
        "                    self.tail = temp.prev\n",
        "                temp = None\n",
        "                return\n",
        "\n",
        "            temp = temp.next\n",
        "\n",
        "    def display(self):\n",
        "        temp = self.head\n",
        "        while temp:\n",
        "            print(temp.data, end=\" <-> \")\n",
        "            temp = temp.next\n",
        "        print(\"None\")\n"
      ],
      "metadata": {
        "id": "8FShV23AC77Q"
      },
      "execution_count": 19,
      "outputs": []
    },
    {
      "cell_type": "code",
      "source": [
        "dll = DoublyLinkedList()\n",
        "dll.append(1)\n",
        "dll.append(2)\n",
        "dll.append(3)\n",
        "dll.prepend(0)\n",
        "dll.display()\n",
        "dll.delete(2)\n",
        "dll.display()"
      ],
      "metadata": {
        "colab": {
          "base_uri": "https://localhost:8080/"
        },
        "id": "lelc-w8gcEQg",
        "outputId": "7e2ab860-3da1-422c-dae8-80ab1e406571"
      },
      "execution_count": 20,
      "outputs": [
        {
          "output_type": "stream",
          "name": "stdout",
          "text": [
            "0 <-> 1 <-> 2 <-> 3 <-> None\n",
            "0 <-> 1 <-> 3 <-> None\n"
          ]
        }
      ]
    },
    {
      "cell_type": "code",
      "source": [],
      "metadata": {
        "id": "ZB1VBo5jf_IR"
      },
      "execution_count": null,
      "outputs": []
    }
  ]
}