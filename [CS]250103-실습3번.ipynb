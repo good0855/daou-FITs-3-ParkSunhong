{
  "nbformat": 4,
  "nbformat_minor": 0,
  "metadata": {
    "colab": {
      "provenance": []
    },
    "kernelspec": {
      "name": "python3",
      "display_name": "Python 3"
    },
    "language_info": {
      "name": "python"
    }
  },
  "cells": [
    {
      "cell_type": "code",
      "execution_count": 1,
      "metadata": {
        "colab": {
          "base_uri": "https://localhost:8080/"
        },
        "id": "Wrhr-5ZNB-v-",
        "outputId": "d97fcf1c-da4e-45d9-b9f7-e151e3f5264c"
      },
      "outputs": [
        {
          "output_type": "stream",
          "name": "stdout",
          "text": [
            "Worker 0 시작\n",
            "Worker 1 시작\n",
            "Worker 2 시작\n",
            "Worker 0 끝\n",
            "Worker 1 끝Worker 2 끝\n",
            "\n"
          ]
        }
      ],
      "source": [
        "import multiprocessing\n",
        "import time\n",
        "# 각 프로세스에서 실행될 함수\n",
        "def worker(number):\n",
        "   print(f\"Worker {number} 시작\")\n",
        "   time.sleep(2)\n",
        "   print(f\"Worker {number} 끝\")\n",
        "if __name__ == \"__main__\":\n",
        "   # 3개의 프로세스 생성\n",
        "   processes = []\n",
        "   for i in range(3):\n",
        "       process = multiprocessing.Process(target=worker, args=(i,))\n",
        "       processes.append(process)\n",
        "       process.start() # 프로세스 시작\n",
        "   for process in processes:\n",
        "       process.join() # 모든 프로세스가 끝날 때까지 대기"
      ]
    },
    {
      "cell_type": "code",
      "source": [],
      "metadata": {
        "id": "8FShV23AC77Q"
      },
      "execution_count": null,
      "outputs": []
    }
  ]
}