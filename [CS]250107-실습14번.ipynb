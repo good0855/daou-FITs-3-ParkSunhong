{
  "nbformat": 4,
  "nbformat_minor": 0,
  "metadata": {
    "colab": {
      "provenance": [],
      "authorship_tag": "ABX9TyMhEo7gpCsjMRji4TYMClS2",
      "include_colab_link": true
    },
    "kernelspec": {
      "name": "python3",
      "display_name": "Python 3"
    },
    "language_info": {
      "name": "python"
    }
  },
  "cells": [
    {
      "cell_type": "markdown",
      "metadata": {
        "id": "view-in-github",
        "colab_type": "text"
      },
      "source": [
        "<a href=\"https://colab.research.google.com/github/good0855/daou-FITs-3-ParkSunhong/blob/%EC%8B%A4%EC%8A%B5/%5BCS%5D250107-%EC%8B%A4%EC%8A%B514%EB%B2%88.ipynb\" target=\"_parent\"><img src=\"https://colab.research.google.com/assets/colab-badge.svg\" alt=\"Open In Colab\"/></a>"
      ]
    },
    {
      "cell_type": "code",
      "source": [
        "# 실습 14 - 파이썬을 이용한 단일 연결 리스트 구현\n",
        "class Node:\n",
        "    def __init__(self, data):\n",
        "        self.data = data\n",
        "        self.next = None\n",
        "class SinglyLinkedList:\n",
        "    def __init__(self):\n",
        "        self.head = None\n",
        "\n",
        "    def append(self, data):\n",
        "        new_node = Node(data)\n",
        "        if not self.head:\n",
        "            self.head = new_node\n",
        "            return\n",
        "\n",
        "        last = self.head\n",
        "\n",
        "        while last.next:\n",
        "            last = last.next\n",
        "        last.next = new_node\n",
        "\n",
        "    def prepend(self, data):\n",
        "        new_node = Node(data)\n",
        "        new_node.next = self.head\n",
        "        self.head = new_node\n",
        "\n",
        "    def delete(self, data):\n",
        "        temp = self.head\n",
        "\n",
        "        if temp and temp.data == data:\n",
        "            self.head =  temp.next\n",
        "            temp = None\n",
        "            return\n",
        "\n",
        "        prev = None\n",
        "\n",
        "        while temp and temp.data != data:\n",
        "            prev = temp\n",
        "            temp = temp.next\n",
        "\n",
        "        if temp is None:\n",
        "            return\n",
        "\n",
        "        prev.next = temp.next\n",
        "        temp = None"
      ],
      "metadata": {
        "id": "8FShV23AC77Q"
      },
      "execution_count": 9,
      "outputs": []
    }
  ]
}