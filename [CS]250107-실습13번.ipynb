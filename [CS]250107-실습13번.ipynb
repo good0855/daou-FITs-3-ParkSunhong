{
  "nbformat": 4,
  "nbformat_minor": 0,
  "metadata": {
    "colab": {
      "provenance": [],
      "authorship_tag": "ABX9TyMhct7PFTspLTFzdkHi6NQy",
      "include_colab_link": true
    },
    "kernelspec": {
      "name": "python3",
      "display_name": "Python 3"
    },
    "language_info": {
      "name": "python"
    }
  },
  "cells": [
    {
      "cell_type": "markdown",
      "metadata": {
        "id": "view-in-github",
        "colab_type": "text"
      },
      "source": [
        "<a href=\"https://colab.research.google.com/github/good0855/daou-FITs-3-ParkSunhong/blob/%EC%8B%A4%EC%8A%B5/%5BCS%5D250107-%EC%8B%A4%EC%8A%B513%EB%B2%88.ipynb\" target=\"_parent\"><img src=\"https://colab.research.google.com/assets/colab-badge.svg\" alt=\"Open In Colab\"/></a>"
      ]
    },
    {
      "cell_type": "code",
      "source": [
        "# 배열 요소 추가, 삽입\n",
        "arr = [1, 2, 3]\n",
        "arr.append(4)\n",
        "arr.insert(1, 10)\n",
        "arr_ones = [1] * 5"
      ],
      "metadata": {
        "id": "8FShV23AC77Q"
      },
      "execution_count": 5,
      "outputs": []
    },
    {
      "cell_type": "code",
      "source": [
        "# 배열 요소 수정\n",
        "arr = [1, 2, 3, 4, 5]\n",
        "arr[2] = 99"
      ],
      "metadata": {
        "id": "tylEDHuoZsPf"
      },
      "execution_count": 6,
      "outputs": []
    },
    {
      "cell_type": "code",
      "source": [
        "# 배열 요소 삭제\n",
        "arr = [10, 20, 30, 40, 50]\n",
        "arr.remove(30)\n",
        "arr.pop()\n",
        "arr.pop(0)"
      ],
      "metadata": {
        "colab": {
          "base_uri": "https://localhost:8080/"
        },
        "id": "ROZ1OFplZwmS",
        "outputId": "3bf896a5-f65a-4034-f176-0fd4ab098e26"
      },
      "execution_count": 7,
      "outputs": [
        {
          "output_type": "execute_result",
          "data": {
            "text/plain": [
              "10"
            ]
          },
          "metadata": {},
          "execution_count": 7
        }
      ]
    },
    {
      "cell_type": "code",
      "source": [
        "# 배열 합치기\n",
        "arr1 = [1, 2, 3]\n",
        "arr2 = [4, 5, 6]\n",
        "arr3 = arr1 + arr2\n",
        "arr1.extend(arr2)"
      ],
      "metadata": {
        "id": "K5qYXno7Z4Fz"
      },
      "execution_count": 8,
      "outputs": []
    }
  ]
}