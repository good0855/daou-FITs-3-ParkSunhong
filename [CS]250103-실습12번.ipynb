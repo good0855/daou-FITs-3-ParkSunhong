{
  "nbformat": 4,
  "nbformat_minor": 0,
  "metadata": {
    "colab": {
      "provenance": [],
      "authorship_tag": "ABX9TyMuzQHDBpFUk6ZHH9UPAKnZ",
      "include_colab_link": true
    },
    "kernelspec": {
      "name": "python3",
      "display_name": "Python 3"
    },
    "language_info": {
      "name": "python"
    }
  },
  "cells": [
    {
      "cell_type": "markdown",
      "metadata": {
        "id": "view-in-github",
        "colab_type": "text"
      },
      "source": [
        "<a href=\"https://colab.research.google.com/github/good0855/daou-FITs-3-ParkSunhong/blob/%EC%8B%A4%EC%8A%B5/%5BCS%5D250103-%EC%8B%A4%EC%8A%B512%EB%B2%88.ipynb\" target=\"_parent\"><img src=\"https://colab.research.google.com/assets/colab-badge.svg\" alt=\"Open In Colab\"/></a>"
      ]
    },
    {
      "cell_type": "code",
      "execution_count": 3,
      "metadata": {
        "colab": {
          "base_uri": "https://localhost:8080/"
        },
        "id": "Wrhr-5ZNB-v-",
        "outputId": "68cf0252-3fa8-4af7-cc4e-658afc1028b8"
      },
      "outputs": [
        {
          "output_type": "stream",
          "name": "stdout",
          "text": [
            "10\n",
            "30\n",
            "50\n",
            "5\n"
          ]
        }
      ],
      "source": [
        "# 배열 초기화\n",
        "arr = [1,2,3,4,5]\n",
        "\n",
        "arr_zeros = [0] * 5\n",
        "arr_ones = [1] * 5\n",
        "\n",
        "# 배열 요소 접근\n",
        "arr = [10, 20, 30, 40, 50]\n",
        "print(arr[0])\n",
        "print(arr[2])\n",
        "print(arr[-1])\n",
        "\n",
        "# 배열의 길이 구하기\n",
        "arr = [1, 2, 3, 4, 5]\n",
        "print(len(arr))"
      ]
    },
    {
      "cell_type": "code",
      "source": [],
      "metadata": {
        "id": "8FShV23AC77Q"
      },
      "execution_count": null,
      "outputs": []
    }
  ]
}