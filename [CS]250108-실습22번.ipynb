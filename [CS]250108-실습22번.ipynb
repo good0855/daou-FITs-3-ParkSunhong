{
  "nbformat": 4,
  "nbformat_minor": 0,
  "metadata": {
    "colab": {
      "provenance": [],
      "authorship_tag": "ABX9TyN0nf+AZ0i479/Y6kP87Ip/",
      "include_colab_link": true
    },
    "kernelspec": {
      "name": "python3",
      "display_name": "Python 3"
    },
    "language_info": {
      "name": "python"
    }
  },
  "cells": [
    {
      "cell_type": "markdown",
      "metadata": {
        "id": "view-in-github",
        "colab_type": "text"
      },
      "source": [
        "<a href=\"https://colab.research.google.com/github/good0855/daou-FITs-3-ParkSunhong/blob/%EC%8B%A4%EC%8A%B5/%5BCS%5D250108-%EC%8B%A4%EC%8A%B522%EB%B2%88.ipynb\" target=\"_parent\"><img src=\"https://colab.research.google.com/assets/colab-badge.svg\" alt=\"Open In Colab\"/></a>"
      ]
    },
    {
      "cell_type": "code",
      "source": [
        "# 실습(1/8 - 단위테스트)\n",
        "\n",
        "def add(a, b):\n",
        "    return a + b\n",
        "\n",
        "def subtract(a, b):\n",
        "    return a - b\n"
      ],
      "metadata": {
        "id": "P99AVAuj-KP2"
      },
      "execution_count": 34,
      "outputs": []
    },
    {
      "cell_type": "code",
      "source": [
        "import unittest\n",
        "\n",
        "class TestMathFunctions(unittest.TestCase):\n",
        "    def test_add(self):\n",
        "        self.assertEqual(add(1, 2), 3)\n",
        "\n",
        "    def test_substract(self):\n",
        "        self.assertEqual(subtract(2, 1), 1)\n",
        "\n",
        "    def test_add_negative(self):\n",
        "        self.assertEqual(add(-1, -2), -3)\n",
        "\n",
        "    def test_substract_negative(self):\n",
        "        self.assertEqual(subtract(-5, -3), -2)\n",
        "\n",
        "if __name__ == \"__main__\":\n",
        "    unittest.main(argv=['first-arg-is-ignored'], exit=False)"
      ],
      "metadata": {
        "id": "9Md2-BxN-Lf8",
        "colab": {
          "base_uri": "https://localhost:8080/"
        },
        "outputId": "28c594d0-9075-4154-9a6d-99ca2700198e"
      },
      "execution_count": 35,
      "outputs": [
        {
          "output_type": "stream",
          "name": "stderr",
          "text": [
            "....\n",
            "----------------------------------------------------------------------\n",
            "Ran 4 tests in 0.013s\n",
            "\n",
            "OK\n"
          ]
        }
      ]
    }
  ]
}